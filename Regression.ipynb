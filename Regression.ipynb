{
  "nbformat": 4,
  "nbformat_minor": 0,
  "metadata": {
    "colab": {
      "name": "Regression.ipynb",
      "provenance": [],
      "collapsed_sections": [],
      "authorship_tag": "ABX9TyPy1gGip3zbnnMK1pPlA0DI",
      "include_colab_link": true
    },
    "kernelspec": {
      "name": "python3",
      "display_name": "Python 3"
    }
  },
  "cells": [
    {
      "cell_type": "markdown",
      "metadata": {
        "id": "view-in-github",
        "colab_type": "text"
      },
      "source": [
        "<a href=\"https://colab.research.google.com/github/NarinColin/LinearRegression/blob/main/Regression.ipynb\" target=\"_parent\"><img src=\"https://colab.research.google.com/assets/colab-badge.svg\" alt=\"Open In Colab\"/></a>"
      ]
    },
    {
      "cell_type": "code",
      "metadata": {
        "id": "Zb8JjE9iq-Vt"
      },
      "source": [
        "import pandas as pd\r\n",
        "f = open(\"/content/sample_data/california_housing_test.csv\")\r\n",
        "dataset = pd.read_csv(f)\r\n",
        "\r\n",
        "x = dataset.iloc[:, 0:7].values\r\n",
        "y = dataset.iloc[:, 8].values"
      ],
      "execution_count": null,
      "outputs": []
    },
    {
      "cell_type": "code",
      "metadata": {
        "id": "_9DAnFgms0Ji"
      },
      "source": [
        "from sklearn.model_selection import train_test_split\r\n",
        "\r\n",
        "x_train, x_test, y_train, y_test = train_test_split(x, y, test_size= 0.2)"
      ],
      "execution_count": null,
      "outputs": []
    },
    {
      "cell_type": "code",
      "metadata": {
        "colab": {
          "base_uri": "https://localhost:8080/"
        },
        "id": "st5ezjDHtw40",
        "outputId": "f2b260ea-5b42-445d-b6c2-1494a6b7c028"
      },
      "source": [
        "from sklearn.preprocessing import PolynomialFeatures\r\n",
        "\r\n",
        "multi_poly = PolynomialFeatures(degree=2)\r\n",
        "x_poly = multi_poly.fit_transform(x_train)\r\n",
        "multi_poly.fit(x_poly, y_train)"
      ],
      "execution_count": null,
      "outputs": [
        {
          "output_type": "execute_result",
          "data": {
            "text/plain": [
              "PolynomialFeatures(degree=2, include_bias=True, interaction_only=False,\n",
              "                   order='C')"
            ]
          },
          "metadata": {
            "tags": []
          },
          "execution_count": 4
        }
      ]
    },
    {
      "cell_type": "code",
      "metadata": {
        "colab": {
          "base_uri": "https://localhost:8080/"
        },
        "id": "yr8m48OOu02k",
        "outputId": "1a2ef311-19f1-4104-ddf9-6c82efd73d97"
      },
      "source": [
        "from sklearn import linear_model\r\n",
        "from sklearn.linear_model import LinearRegression\r\n",
        "lin_reg_multi = LinearRegression()\r\n",
        "lin_reg_multi.fit(x_poly, y_train)"
      ],
      "execution_count": null,
      "outputs": [
        {
          "output_type": "execute_result",
          "data": {
            "text/plain": [
              "LinearRegression(copy_X=True, fit_intercept=True, n_jobs=None, normalize=False)"
            ]
          },
          "metadata": {
            "tags": []
          },
          "execution_count": 5
        }
      ]
    },
    {
      "cell_type": "code",
      "metadata": {
        "colab": {
          "base_uri": "https://localhost:8080/"
        },
        "id": "-l5O3ITSwRpf",
        "outputId": "62ed7e72-4d7b-4891-e2b9-f713509adadb"
      },
      "source": [
        "y_pred = lin_reg_multi.predict(multi_poly.fit_transform(x_test))\r\n",
        "\r\n",
        "from sklearn import metrics\r\n",
        "from math import sqrt\r\n",
        "MSE = metrics.mean_squared_error(y_test, y_pred)\r\n",
        "print(sqrt(MSE))"
      ],
      "execution_count": 12,
      "outputs": [
        {
          "output_type": "stream",
          "text": [
            "82270.45389859748\n"
          ],
          "name": "stdout"
        }
      ]
    }
  ]
}