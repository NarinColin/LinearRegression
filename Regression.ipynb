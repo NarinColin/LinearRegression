{
  "nbformat": 4,
  "nbformat_minor": 0,
  "metadata": {
    "colab": {
      "name": "Regression.ipynb",
      "provenance": [],
      "collapsed_sections": [],
      "authorship_tag": "ABX9TyOd4mUSPWY4zT2TTWDGpd65",
      "include_colab_link": true
    },
    "kernelspec": {
      "name": "python3",
      "display_name": "Python 3"
    }
  },
  "cells": [
    {
      "cell_type": "markdown",
      "metadata": {
        "id": "view-in-github",
        "colab_type": "text"
      },
      "source": [
        "<a href=\"https://colab.research.google.com/github/NarinColin/LinearRegression/blob/main/Regression.ipynb\" target=\"_parent\"><img src=\"https://colab.research.google.com/assets/colab-badge.svg\" alt=\"Open In Colab\"/></a>"
      ]
    },
    {
      "cell_type": "code",
      "metadata": {
        "id": "Zb8JjE9iq-Vt"
      },
      "source": [
        "import pandas as pd\r\n",
        "f = open(\"/content/sample_data/california_housing_test.csv\")\r\n",
        "dataset = pd.read_csv(f)\r\n",
        "\r\n",
        "x = dataset.iloc[:, 0:7].values\r\n",
        "y = dataset.iloc[:, 8].values"
      ],
      "execution_count": 1,
      "outputs": []
    },
    {
      "cell_type": "code",
      "metadata": {
        "id": "_9DAnFgms0Ji"
      },
      "source": [
        "from sklearn.model_selection import train_test_split\r\n",
        "\r\n",
        "x_train, x_test, y_train, y_test = train_test_split(x, y, test_size= 0.2)"
      ],
      "execution_count": 2,
      "outputs": []
    },
    {
      "cell_type": "code",
      "metadata": {
        "colab": {
          "base_uri": "https://localhost:8080/"
        },
        "id": "yr8m48OOu02k",
        "outputId": "c25babe1-2ceb-4f2f-d5b9-c87c9f4ad076"
      },
      "source": [
        "from sklearn import linear_model\r\n",
        "from sklearn.linear_model import LinearRegression\r\n",
        "lin_reg_multi = LinearRegression()\r\n",
        "lin_reg_multi.fit(x_train, y_train)"
      ],
      "execution_count": 3,
      "outputs": [
        {
          "output_type": "execute_result",
          "data": {
            "text/plain": [
              "LinearRegression(copy_X=True, fit_intercept=True, n_jobs=None, normalize=False)"
            ]
          },
          "metadata": {
            "tags": []
          },
          "execution_count": 3
        }
      ]
    },
    {
      "cell_type": "code",
      "metadata": {
        "colab": {
          "base_uri": "https://localhost:8080/"
        },
        "id": "-l5O3ITSwRpf",
        "outputId": "fcc4cf26-c3dd-45fd-82c0-2f9b86c1c133"
      },
      "source": [
        "y_pred = lin_reg_multi.predict(x_test)\r\n",
        "\r\n",
        "from sklearn import metrics\r\n",
        "from math import sqrt\r\n",
        "MSE = metrics.mean_squared_error(y_test, y_pred)\r\n",
        "print(sqrt(MSE))"
      ],
      "execution_count": 5,
      "outputs": [
        {
          "output_type": "stream",
          "text": [
            "88911.45202713781\n"
          ],
          "name": "stdout"
        }
      ]
    }
  ]
}