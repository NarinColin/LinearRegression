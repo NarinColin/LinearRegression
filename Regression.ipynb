{
  "nbformat": 4,
  "nbformat_minor": 0,
  "metadata": {
    "colab": {
      "name": "Regression.ipynb",
      "provenance": [],
      "authorship_tag": "ABX9TyO4TrHq8c5tHlV9klotJY+b",
      "include_colab_link": true
    },
    "kernelspec": {
      "name": "python3",
      "display_name": "Python 3"
    }
  },
  "cells": [
    {
      "cell_type": "markdown",
      "metadata": {
        "id": "view-in-github",
        "colab_type": "text"
      },
      "source": [
        "<a href=\"https://colab.research.google.com/github/NarinColin/LinearRegression/blob/main/Regression.ipynb\" target=\"_parent\"><img src=\"https://colab.research.google.com/assets/colab-badge.svg\" alt=\"Open In Colab\"/></a>"
      ]
    },
    {
      "cell_type": "code",
      "metadata": {
        "id": "Zb8JjE9iq-Vt"
      },
      "source": [
        "import pandas as pd\r\n",
        "f = open(\"/content/sample_data/california_housing_test.csv\")\r\n",
        "dataset = pd.read_csv(f)\r\n",
        "\r\n",
        "x = dataset.iloc[:, 0:7].values\r\n",
        "y = dataset.iloc[:, 8].values"
      ],
      "execution_count": 42,
      "outputs": []
    },
    {
      "cell_type": "code",
      "metadata": {
        "id": "_9DAnFgms0Ji"
      },
      "source": [
        "from sklearn.model_selection import train_test_split\r\n",
        "\r\n",
        "x_train, x_test, y_train, y_test = train_test_split(x, y, test_size= 0.2)"
      ],
      "execution_count": null,
      "outputs": []
    },
    {
      "cell_type": "code",
      "metadata": {
        "colab": {
          "base_uri": "https://localhost:8080/"
        },
        "id": "st5ezjDHtw40",
        "outputId": "2f2f144b-480b-478c-e297-a2dfa8c62765"
      },
      "source": [
        "from sklearn.preprocessing import PolynomialFeatures\r\n",
        "\r\n",
        "multi_poly = PolynomialFeatures(degree=2)\r\n",
        "x_poly = multi_poly.fit_transform(x_train)\r\n",
        "multi_poly.fit(x_poly, y_train)"
      ],
      "execution_count": null,
      "outputs": [
        {
          "output_type": "execute_result",
          "data": {
            "text/plain": [
              "PolynomialFeatures(degree=2, include_bias=True, interaction_only=False,\n",
              "                   order='C')"
            ]
          },
          "metadata": {
            "tags": []
          },
          "execution_count": 39
        }
      ]
    },
    {
      "cell_type": "code",
      "metadata": {
        "colab": {
          "base_uri": "https://localhost:8080/"
        },
        "id": "yr8m48OOu02k",
        "outputId": "df0c818f-0d0d-43f9-d953-6b1ee41c9bfa"
      },
      "source": [
        "from sklearn import linear_model\r\n",
        "from sklearn.linear_model import LinearRegression\r\n",
        "lin_reg_multi = LinearRegression()\r\n",
        "lin_reg_multi.fit(x_poly, y_train)"
      ],
      "execution_count": null,
      "outputs": [
        {
          "output_type": "execute_result",
          "data": {
            "text/plain": [
              "LinearRegression(copy_X=True, fit_intercept=True, n_jobs=None, normalize=False)"
            ]
          },
          "metadata": {
            "tags": []
          },
          "execution_count": 40
        }
      ]
    },
    {
      "cell_type": "code",
      "metadata": {
        "colab": {
          "base_uri": "https://localhost:8080/"
        },
        "id": "-l5O3ITSwRpf",
        "outputId": "c9c333a4-1fcb-451a-c2e0-4a6afb724c99"
      },
      "source": [
        "y_pred = lin_reg_multi.predict(multi_poly.fit_transform(x_test))\r\n",
        "\r\n",
        "from sklearn import metrics\r\n",
        "print(metrics.mean_squared_error(y_test, y_pred))"
      ],
      "execution_count": null,
      "outputs": [
        {
          "output_type": "stream",
          "text": [
            "6392883437.264183\n"
          ],
          "name": "stdout"
        }
      ]
    }
  ]
}